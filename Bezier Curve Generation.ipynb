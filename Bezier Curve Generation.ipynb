{
 "cells": [
  {
   "cell_type": "code",
   "execution_count": 1,
   "metadata": {},
   "outputs": [],
   "source": [
    "from matplotlib import pyplot as plt"
   ]
  },
  {
   "cell_type": "code",
   "execution_count": 2,
   "metadata": {},
   "outputs": [],
   "source": [
    "def gen_point(A, k):\n",
    "    p = [0, 0]\n",
    "    \n",
    "    p[0] += A[0][0] * ((1 - k) ** 3)\n",
    "    p[1] += A[1][0] * ((1 - k) ** 3)\n",
    "    \n",
    "    p[0] += A[0][1] * (3 * k * (1 - k) ** 2)\n",
    "    p[1] += A[1][1] * (3 * k * (1 - k) ** 2)\n",
    "    \n",
    "    p[0] += A[0][2] * (3 * (k ** 2) * (1 - k))\n",
    "    p[1] += A[1][2] * (3 * (k ** 2) * (1 - k))\n",
    "    \n",
    "    p[0] += A[0][3] * (k ** 3)\n",
    "    p[1] += A[1][3] * (k ** 3)\n",
    "    \n",
    "    return p"
   ]
  },
  {
   "cell_type": "code",
   "execution_count": 3,
   "metadata": {},
   "outputs": [],
   "source": [
    "def gen_look_up(num, A):\n",
    "    t = []\n",
    "    look_up = []\n",
    "    prev = [A[0][0], A[1][0]]\n",
    "\n",
    "    for i in range(num + 1):\n",
    "        ti = i / num\n",
    "\n",
    "        cur = gen_point(A, ti)\n",
    "\n",
    "        dist = ((cur[0] - prev[0]) ** 2 + (cur[1] - prev[1]) ** 2) ** 0.5\n",
    "\n",
    "        if (i == 0):\n",
    "            look_up.append(dist)\n",
    "        else:\n",
    "            look_up.append(dist + look_up[i - 1])\n",
    "\n",
    "        t.append(ti)\n",
    "        prev = cur\n",
    "    \n",
    "    return t, look_up"
   ]
  },
  {
   "cell_type": "code",
   "execution_count": 4,
   "metadata": {},
   "outputs": [],
   "source": [
    "def bin_search(l, val):\n",
    "    low = 0\n",
    "    high = len(l) - 1\n",
    "    \n",
    "    while (high > low + 1):\n",
    "        mid = (low + high) // 2\n",
    "        \n",
    "        if (l[mid] <= val):\n",
    "            low = mid\n",
    "        else:\n",
    "            high = mid\n",
    "    \n",
    "    return low"
   ]
  },
  {
   "cell_type": "code",
   "execution_count": 5,
   "metadata": {},
   "outputs": [],
   "source": [
    "def gen_path(n, t, look_up):\n",
    "    x = []\n",
    "    y = []\n",
    "\n",
    "    k = []\n",
    "    dist = []\n",
    "\n",
    "    total_dist = look_up[-1]\n",
    "    prev_index = 0\n",
    "\n",
    "    for i in range(n + 1):\n",
    "        dist_i = total_dist * i / n\n",
    "        index = prev_index + bin_search(look_up[prev_index:], dist_i)\n",
    "\n",
    "        k_i = ((dist_i - look_up[index]) / (look_up[index + 1] - look_up[index])) * (t[index + 1] - t[index]) + t[index]\n",
    "        k.append(k_i)\n",
    "        dist.append(dist_i)\n",
    "\n",
    "        x_i, y_i = gen_point(P, k_i)\n",
    "        x.append(x_i)\n",
    "        y.append(y_i)\n",
    "\n",
    "        prev_index = index\n",
    "    \n",
    "    return x, y, k, dist"
   ]
  },
  {
   "cell_type": "code",
   "execution_count": 6,
   "metadata": {},
   "outputs": [],
   "source": [
    "def gen_limits(P):\n",
    "    lims = [P[0][0], P[0][0], P[1][0], P[1][0]] # minX, maxX, minY, maxY\n",
    "\n",
    "    for i in range(len(P[0])):\n",
    "        if (P[0][i] < lims[0]):\n",
    "            lims[0] = P[0][i]\n",
    "        elif (P[0][i] > lims[1]):\n",
    "            lims[1] = P[0][i]\n",
    "\n",
    "        if (P[1][i] < lims[2]):\n",
    "            lims[2] = P[1][i]\n",
    "        elif (P[1][i] > lims[3]):\n",
    "            lims[3] = P[1][i]\n",
    "    \n",
    "    return lims"
   ]
  },
  {
   "cell_type": "code",
   "execution_count": 24,
   "metadata": {},
   "outputs": [],
   "source": [
    "def plot_total_dist(look_up_k, look_up_dist, path_k, path_dist):\n",
    "    plt.xlim(0, 1)\n",
    "    plt.ylim(0, look_up_dist[-1])\n",
    "    plt.grid()\n",
    "    plt.plot(look_up_k, look_up_dist, marker=\".\", markersize=4, markeredgecolor=\"red\")\n",
    "    plt.plot(path_k, path_dist, marker=\"X\", markersize=8, markeredgecolor=\"blue\")\n",
    "    plt.show()"
   ]
  },
  {
   "cell_type": "code",
   "execution_count": 25,
   "metadata": {},
   "outputs": [],
   "source": [
    "def plot_path(P, path_x, path_y):\n",
    "    plt.xlim(limits[0] - 1, limits[1] + 1)\n",
    "    plt.ylim(limits[2] - 1, limits[3] + 1)\n",
    "    plt.grid()\n",
    "    plt.plot(P[0], P[1], marker=\"o\", markersize=10, color = \"orange\", markeredgecolor=\"orange\", markerfacecolor=\"orange\", animated = True)\n",
    "    plt.plot(path_x, path_y, marker=\".\", markersize=5, markeredgecolor=\"blue\", animated = True)\n",
    "    plt.show()"
   ]
  },
  {
   "cell_type": "code",
   "execution_count": 26,
   "metadata": {},
   "outputs": [],
   "source": [
    "def print_delta_dist(path_x, path_y):\n",
    "    prev = [0, 0]\n",
    "    \n",
    "    for i in range(len(path_x)):\n",
    "        if (i != 0):\n",
    "            print(((path_x[i] - prev[0]) ** 2 + (path_y[i] - prev[1]) ** 2) ** 0.5)\n",
    "\n",
    "        prev = [path_x[i], path_y[i]]"
   ]
  },
  {
   "cell_type": "code",
   "execution_count": 34,
   "metadata": {},
   "outputs": [],
   "source": [
    "P = [[-1, 2, 3, -0.5],\n",
    "     [4, 9, 1, 7]]\n",
    "\n",
    "limits = gen_limits(P)\n",
    "look_up_k, look_up_dist = gen_look_up(10000, P)\n",
    "path_x, path_y, path_k, path_dist = gen_path(50, look_up_k, look_up_dist)"
   ]
  },
  {
   "cell_type": "code",
   "execution_count": 35,
   "metadata": {},
   "outputs": [
    {
     "data": {
      "image/png": "[encoded data removed]",
      "text/plain": [
       "<Figure size 432x288 with 1 Axes>"
      ]
     },
     "metadata": {
      "needs_background": "light"
     },
     "output_type": "display_data"
    }
   ],
   "source": [
    "plot_total_dist(look_up_k, look_up_dist, path_k, path_dist)"
   ]
  },
  {
   "cell_type": "code",
   "execution_count": 36,
   "metadata": {},
   "outputs": [
    {
     "data": {
      "image/png": "[encoded data removed]",
      "text/plain": [
       "<Figure size 432x288 with 1 Axes>"
      ]
     },
     "metadata": {
      "needs_background": "light"
     },
     "output_type": "display_data"
    }
   ],
   "source": [
    "plot_path(P, path_x, path_y)"
   ]
  },
  {
   "cell_type": "code",
   "execution_count": 37,
   "metadata": {},
   "outputs": [
    {
     "name": "stdout",
     "output_type": "stream",
     "text": [
      "0.14976970876518145\n",
      "0.14976940045470435\n",
      "0.14976900593705414\n",
      "0.14976867293543547\n",
      "0.14976805399435672\n",
      "0.14976743251112462\n",
      "0.14976637427866413\n",
      "0.14976520982258823\n",
      "0.14976338635073366\n",
      "0.14976086547965536\n",
      "0.1497572276301904\n",
      "0.14975180724125303\n",
      "0.14974367946249117\n",
      "0.1497308664070085\n",
      "0.14971084070568863\n",
      "0.1496797137441879\n",
      "0.149634118948585\n",
      "0.14957683262612284\n",
      "0.14952475027964504\n",
      "0.14950469491509175\n",
      "0.14952508709122259\n",
      "0.14956523871599475\n",
      "0.1496003168699856\n",
      "0.1496168173299409\n",
      "0.14960379337124205\n",
      "0.14952463199883997\n",
      "0.14917954854246435\n",
      "0.14729914694120178\n",
      "0.14606902542911335\n",
      "0.14898128830633764\n",
      "0.14958965262788398\n",
      "0.1497078509827734\n",
      "0.14974240655648524\n",
      "0.14975564586629575\n",
      "0.1497618411171247\n",
      "0.14976510250155234\n",
      "0.14976699399032178\n",
      "0.14976811652134034\n",
      "0.14976890797871997\n",
      "0.14976940481965553\n",
      "0.14976974956078629\n",
      "0.14977003167407185\n",
      "0.14977025324886234\n",
      "0.14977037719626754\n",
      "0.14977054998178205\n",
      "0.1497704959266969\n",
      "0.14977075260219203\n",
      "0.14977065380827992\n",
      "0.1497708339254006\n",
      "0.14977082421632612\n"
     ]
    }
   ],
   "source": [
    "print_delta_dist(path_x, path_y)"
   ]
  }
 ],
 "metadata": {
  "kernelspec": {
   "display_name": "Python 3",
   "language": "python",
   "name": "python3"
  },
  "language_info": {
   "codemirror_mode": {
    "name": "ipython",
    "version": 3
   },
   "file_extension": ".py",
   "mimetype": "text/x-python",
   "name": "python",
   "nbconvert_exporter": "python",
   "pygments_lexer": "ipython3",
   "version": "3.8.3"
  }
 },
 "nbformat": 4,
 "nbformat_minor": 4
}
