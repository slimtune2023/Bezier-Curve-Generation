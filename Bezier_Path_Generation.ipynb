{
 "cells": [
  {
   "cell_type": "code",
   "execution_count": 1,
   "metadata": {},
   "outputs": [],
   "source": [
    "from matplotlib import pyplot as plt"
   ]
  },
  {
   "cell_type": "code",
   "execution_count": 2,
   "metadata": {},
   "outputs": [],
   "source": [
    "def gen_point(A, k):\n",
    "    p = [0, 0]\n",
    "    \n",
    "    p[0] += A[0][0] * ((1 - k) ** 3)\n",
    "    p[1] += A[1][0] * ((1 - k) ** 3)\n",
    "    \n",
    "    p[0] += A[0][1] * (3 * k * (1 - k) ** 2)\n",
    "    p[1] += A[1][1] * (3 * k * (1 - k) ** 2)\n",
    "    \n",
    "    p[0] += A[0][2] * (3 * (k ** 2) * (1 - k))\n",
    "    p[1] += A[1][2] * (3 * (k ** 2) * (1 - k))\n",
    "    \n",
    "    p[0] += A[0][3] * (k ** 3)\n",
    "    p[1] += A[1][3] * (k ** 3)\n",
    "    \n",
    "    return p"
   ]
  },
  {
   "cell_type": "code",
   "execution_count": 3,
   "metadata": {},
   "outputs": [],
   "source": [
    "def gen_look_up(num, A):\n",
    "    t = []\n",
    "    look_up = []\n",
    "    prev = [A[0][0], A[1][0]]\n",
    "\n",
    "    for i in range(num + 1):\n",
    "        ti = i / num\n",
    "\n",
    "        cur = gen_point(A, ti)\n",
    "\n",
    "        dist = ((cur[0] - prev[0]) ** 2 + (cur[1] - prev[1]) ** 2) ** 0.5\n",
    "\n",
    "        if (i == 0):\n",
    "            look_up.append(dist)\n",
    "        else:\n",
    "            look_up.append(dist + look_up[i - 1])\n",
    "\n",
    "        t.append(ti)\n",
    "        prev = cur\n",
    "    \n",
    "    return t, look_up"
   ]
  },
  {
   "cell_type": "code",
   "execution_count": 4,
   "metadata": {},
   "outputs": [],
   "source": [
    "def bin_search(l, val):\n",
    "    low = 0\n",
    "    high = len(l) - 1\n",
    "    \n",
    "    while (high > low + 1):\n",
    "        mid = (low + high) // 2\n",
    "        \n",
    "        if (l[mid] <= val):\n",
    "            low = mid\n",
    "        else:\n",
    "            high = mid\n",
    "    \n",
    "    return low"
   ]
  },
  {
   "cell_type": "code",
   "execution_count": 5,
   "metadata": {},
   "outputs": [],
   "source": [
    "def gen_path(n, t, look_up, A):\n",
    "    x = []\n",
    "    y = []\n",
    "\n",
    "    k = []\n",
    "    dist = []\n",
    "\n",
    "    total_dist = look_up[-1]\n",
    "    prev_index = 0\n",
    "\n",
    "    for i in range(n + 1):\n",
    "        dist_i = total_dist * i / n\n",
    "        index = prev_index + bin_search(look_up[prev_index:], dist_i)\n",
    "\n",
    "        k_i = ((dist_i - look_up[index]) / (look_up[index + 1] - look_up[index])) * (t[index + 1] - t[index]) + t[index]\n",
    "        k.append(k_i)\n",
    "        dist.append(dist_i)\n",
    "\n",
    "        x_i, y_i = gen_point(A, k_i)\n",
    "        x.append(x_i)\n",
    "        y.append(y_i)\n",
    "\n",
    "        prev_index = index\n",
    "    \n",
    "    return x, y, k, dist"
   ]
  },
  {
   "cell_type": "code",
   "execution_count": 6,
   "metadata": {},
   "outputs": [],
   "source": [
    "def gen_limits(P):\n",
    "    lims = [P[0][0], P[0][0], P[1][0], P[1][0]] # minX, maxX, minY, maxY\n",
    "\n",
    "    for i in range(len(P[0])):\n",
    "        if (P[0][i] < lims[0]):\n",
    "            lims[0] = P[0][i]\n",
    "        elif (P[0][i] > lims[1]):\n",
    "            lims[1] = P[0][i]\n",
    "\n",
    "        if (P[1][i] < lims[2]):\n",
    "            lims[2] = P[1][i]\n",
    "        elif (P[1][i] > lims[3]):\n",
    "            lims[3] = P[1][i]\n",
    "    \n",
    "    return lims"
   ]
  },
  {
   "cell_type": "code",
   "execution_count": 7,
   "metadata": {},
   "outputs": [],
   "source": [
    "def plot_total_dist(look_up_k, look_up_dist, path_k, path_dist):\n",
    "    plt.xlim(0, 1)\n",
    "    plt.ylim(0, look_up_dist[-1])\n",
    "    plt.grid()\n",
    "    plt.title(\"Cumulative Distance Across Curve\")\n",
    "    plt.xlabel(\"k-value\")\n",
    "    plt.ylabel(\"Distance\")\n",
    "    plt.plot(look_up_k, look_up_dist, marker=\".\", markersize=4, markeredgecolor=\"red\")\n",
    "    plt.plot(path_k, path_dist, marker=\"X\", markersize=8, markeredgecolor=\"blue\")\n",
    "    plt.show()"
   ]
  },
  {
   "cell_type": "code",
   "execution_count": 8,
   "metadata": {},
   "outputs": [],
   "source": [
    "def plot_path(P, path_x, path_y, limits):\n",
    "    plt.xlim(limits[0] - 1, limits[1] + 1)\n",
    "    plt.ylim(limits[2] - 1, limits[3] + 1)\n",
    "    plt.grid()\n",
    "    plt.title(\"2D Bezier Curve\")\n",
    "    plt.xlabel(\"x-axis\")\n",
    "    plt.ylabel(\"y-axis\")\n",
    "    plt.plot(P[0], P[1], marker=\"o\", markersize=10, color = \"orange\", markeredgecolor=\"orange\", markerfacecolor=\"orange\", animated = True)\n",
    "    plt.plot(path_x, path_y, marker=\".\", markersize=5, markeredgecolor=\"blue\", animated = True)\n",
    "    plt.show()"
   ]
  },
  {
   "cell_type": "code",
   "execution_count": 9,
   "metadata": {},
   "outputs": [],
   "source": [
    "def print_delta_dist(path_x, path_y):\n",
    "    prev = [0, 0]\n",
    "    \n",
    "    for i in range(len(path_x)):\n",
    "        if (i != 0):\n",
    "            print(((path_x[i] - prev[0]) ** 2 + (path_y[i] - prev[1]) ** 2) ** 0.5)\n",
    "\n",
    "        prev = [path_x[i], path_y[i]]"
   ]
  },
  {
   "cell_type": "code",
   "execution_count": null,
   "metadata": {},
   "outputs": [],
   "source": []
  }
 ],
 "metadata": {
  "kernelspec": {
   "display_name": "Python 3",
   "language": "python",
   "name": "python3"
  },
  "language_info": {
   "codemirror_mode": {
    "name": "ipython",
    "version": 3
   },
   "file_extension": ".py",
   "mimetype": "text/x-python",
   "name": "python",
   "nbconvert_exporter": "python",
   "pygments_lexer": "ipython3",
   "version": "3.8.3"
  }
 },
 "nbformat": 4,
 "nbformat_minor": 4
}
